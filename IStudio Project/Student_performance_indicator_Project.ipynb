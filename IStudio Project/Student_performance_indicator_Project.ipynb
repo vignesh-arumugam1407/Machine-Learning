{
 "cells": [
  {
   "cell_type": "markdown",
   "id": "4f700c0b",
   "metadata": {},
   "source": [
    "Import Data and Required Packages\n",
    "\n",
    "Importing Pandas, Numpy, Matplotlib. Seaborn and Warning Library"
   ]
  },
  {
   "cell_type": "code",
   "execution_count": 107,
   "id": "3083e243",
   "metadata": {},
   "outputs": [],
   "source": [
    "#-- Basic Import\n",
    "\n",
    "import numpy as np\n",
    "import pandas as pd\n",
    "import matplotlib.pyplot as plt\n",
    "import seaborn as sns\n",
    "\n",
    "#-- Modelling\n",
    "\n",
    "from sklearn.metrics import mean_squared_error,r2_score\n",
    "from sklearn.neighbors import KNeighborsRegressor\n",
    "from sklearn.tree import DecisionTreeRegressor\n",
    "from sklearn.ensemble import RandomForestRegressor,AdaBoostRegressor\n",
    "from sklearn.linear_model import LinearRegression,Ridge,Lasso\n",
    "from sklearn.metrics import r2_score,mean_absolute_error,mean_squared_error\n",
    "from sklearn.model_selection import RandomizedSearchCV\n",
    "import warnings"
   ]
  },
  {
   "cell_type": "markdown",
   "id": "678d5c49",
   "metadata": {},
   "source": [
    "Import the CSV Data as Pandas DataFrame"
   ]
  },
  {
   "cell_type": "code",
   "execution_count": 108,
   "id": "bf1c2573",
   "metadata": {},
   "outputs": [],
   "source": [
    "df=pd.read_csv(\"D:\\Python\\AI & ML\\IStudio\\StudentsPerformance_3_lyst1729690388778.csv\")"
   ]
  },
  {
   "cell_type": "code",
   "execution_count": 109,
   "id": "a3089287",
   "metadata": {},
   "outputs": [
    {
     "data": {
      "text/html": [
       "<div>\n",
       "<style scoped>\n",
       "    .dataframe tbody tr th:only-of-type {\n",
       "        vertical-align: middle;\n",
       "    }\n",
       "\n",
       "    .dataframe tbody tr th {\n",
       "        vertical-align: top;\n",
       "    }\n",
       "\n",
       "    .dataframe thead th {\n",
       "        text-align: right;\n",
       "    }\n",
       "</style>\n",
       "<table border=\"1\" class=\"dataframe\">\n",
       "  <thead>\n",
       "    <tr style=\"text-align: right;\">\n",
       "      <th></th>\n",
       "      <th>gender</th>\n",
       "      <th>race/ethnicity</th>\n",
       "      <th>parental level of education</th>\n",
       "      <th>lunch</th>\n",
       "      <th>test preparation course</th>\n",
       "      <th>math score</th>\n",
       "      <th>reading score</th>\n",
       "      <th>writing score</th>\n",
       "    </tr>\n",
       "  </thead>\n",
       "  <tbody>\n",
       "    <tr>\n",
       "      <th>0</th>\n",
       "      <td>female</td>\n",
       "      <td>group B</td>\n",
       "      <td>bachelor's degree</td>\n",
       "      <td>standard</td>\n",
       "      <td>none</td>\n",
       "      <td>72</td>\n",
       "      <td>72</td>\n",
       "      <td>74</td>\n",
       "    </tr>\n",
       "    <tr>\n",
       "      <th>1</th>\n",
       "      <td>female</td>\n",
       "      <td>group C</td>\n",
       "      <td>some college</td>\n",
       "      <td>standard</td>\n",
       "      <td>completed</td>\n",
       "      <td>69</td>\n",
       "      <td>90</td>\n",
       "      <td>88</td>\n",
       "    </tr>\n",
       "    <tr>\n",
       "      <th>2</th>\n",
       "      <td>female</td>\n",
       "      <td>group B</td>\n",
       "      <td>master's degree</td>\n",
       "      <td>standard</td>\n",
       "      <td>none</td>\n",
       "      <td>90</td>\n",
       "      <td>95</td>\n",
       "      <td>93</td>\n",
       "    </tr>\n",
       "    <tr>\n",
       "      <th>3</th>\n",
       "      <td>male</td>\n",
       "      <td>group A</td>\n",
       "      <td>associate's degree</td>\n",
       "      <td>free/reduced</td>\n",
       "      <td>none</td>\n",
       "      <td>47</td>\n",
       "      <td>57</td>\n",
       "      <td>44</td>\n",
       "    </tr>\n",
       "    <tr>\n",
       "      <th>4</th>\n",
       "      <td>male</td>\n",
       "      <td>group C</td>\n",
       "      <td>some college</td>\n",
       "      <td>standard</td>\n",
       "      <td>none</td>\n",
       "      <td>76</td>\n",
       "      <td>78</td>\n",
       "      <td>75</td>\n",
       "    </tr>\n",
       "  </tbody>\n",
       "</table>\n",
       "</div>"
      ],
      "text/plain": [
       "   gender race/ethnicity  ... reading score writing score\n",
       "0  female        group B  ...            72            74\n",
       "1  female        group C  ...            90            88\n",
       "2  female        group B  ...            95            93\n",
       "3    male        group A  ...            57            44\n",
       "4    male        group C  ...            78            75\n",
       "\n",
       "[5 rows x 8 columns]"
      ]
     },
     "execution_count": 109,
     "metadata": {},
     "output_type": "execute_result"
    }
   ],
   "source": [
    "df.head()           #-- Show Top 5 Records"
   ]
  },
  {
   "cell_type": "code",
   "execution_count": 110,
   "id": "f557e7a1",
   "metadata": {},
   "outputs": [],
   "source": [
    "#-- Preparing X and Y Variables\n",
    "\n",
    "X = df.drop(columns=[\"math score\"],axis=1)"
   ]
  },
  {
   "cell_type": "code",
   "execution_count": 111,
   "id": "9ce81b17",
   "metadata": {},
   "outputs": [
    {
     "data": {
      "text/html": [
       "<div>\n",
       "<style scoped>\n",
       "    .dataframe tbody tr th:only-of-type {\n",
       "        vertical-align: middle;\n",
       "    }\n",
       "\n",
       "    .dataframe tbody tr th {\n",
       "        vertical-align: top;\n",
       "    }\n",
       "\n",
       "    .dataframe thead th {\n",
       "        text-align: right;\n",
       "    }\n",
       "</style>\n",
       "<table border=\"1\" class=\"dataframe\">\n",
       "  <thead>\n",
       "    <tr style=\"text-align: right;\">\n",
       "      <th></th>\n",
       "      <th>gender</th>\n",
       "      <th>race/ethnicity</th>\n",
       "      <th>parental level of education</th>\n",
       "      <th>lunch</th>\n",
       "      <th>test preparation course</th>\n",
       "      <th>reading score</th>\n",
       "      <th>writing score</th>\n",
       "    </tr>\n",
       "  </thead>\n",
       "  <tbody>\n",
       "    <tr>\n",
       "      <th>0</th>\n",
       "      <td>female</td>\n",
       "      <td>group B</td>\n",
       "      <td>bachelor's degree</td>\n",
       "      <td>standard</td>\n",
       "      <td>none</td>\n",
       "      <td>72</td>\n",
       "      <td>74</td>\n",
       "    </tr>\n",
       "    <tr>\n",
       "      <th>1</th>\n",
       "      <td>female</td>\n",
       "      <td>group C</td>\n",
       "      <td>some college</td>\n",
       "      <td>standard</td>\n",
       "      <td>completed</td>\n",
       "      <td>90</td>\n",
       "      <td>88</td>\n",
       "    </tr>\n",
       "    <tr>\n",
       "      <th>2</th>\n",
       "      <td>female</td>\n",
       "      <td>group B</td>\n",
       "      <td>master's degree</td>\n",
       "      <td>standard</td>\n",
       "      <td>none</td>\n",
       "      <td>95</td>\n",
       "      <td>93</td>\n",
       "    </tr>\n",
       "    <tr>\n",
       "      <th>3</th>\n",
       "      <td>male</td>\n",
       "      <td>group A</td>\n",
       "      <td>associate's degree</td>\n",
       "      <td>free/reduced</td>\n",
       "      <td>none</td>\n",
       "      <td>57</td>\n",
       "      <td>44</td>\n",
       "    </tr>\n",
       "    <tr>\n",
       "      <th>4</th>\n",
       "      <td>male</td>\n",
       "      <td>group C</td>\n",
       "      <td>some college</td>\n",
       "      <td>standard</td>\n",
       "      <td>none</td>\n",
       "      <td>78</td>\n",
       "      <td>75</td>\n",
       "    </tr>\n",
       "  </tbody>\n",
       "</table>\n",
       "</div>"
      ],
      "text/plain": [
       "   gender race/ethnicity  ... reading score writing score\n",
       "0  female        group B  ...            72            74\n",
       "1  female        group C  ...            90            88\n",
       "2  female        group B  ...            95            93\n",
       "3    male        group A  ...            57            44\n",
       "4    male        group C  ...            78            75\n",
       "\n",
       "[5 rows x 7 columns]"
      ]
     },
     "execution_count": 111,
     "metadata": {},
     "output_type": "execute_result"
    }
   ],
   "source": [
    "X.head()"
   ]
  },
  {
   "cell_type": "code",
   "execution_count": 112,
   "id": "d997aa07",
   "metadata": {},
   "outputs": [
    {
     "data": {
      "text/plain": [
       "(1000, 7)"
      ]
     },
     "execution_count": 112,
     "metadata": {},
     "output_type": "execute_result"
    }
   ],
   "source": [
    "X.shape"
   ]
  },
  {
   "cell_type": "code",
   "execution_count": 113,
   "id": "c59ae05b",
   "metadata": {},
   "outputs": [
    {
     "data": {
      "text/plain": [
       "0      72\n",
       "1      69\n",
       "2      90\n",
       "3      47\n",
       "4      76\n",
       "       ..\n",
       "995    88\n",
       "996    62\n",
       "997    59\n",
       "998    68\n",
       "999    77\n",
       "Name: math score, Length: 1000, dtype: int64"
      ]
     },
     "execution_count": 113,
     "metadata": {},
     "output_type": "execute_result"
    }
   ],
   "source": [
    "Y = df[\"math score\"]\n",
    "Y"
   ]
  },
  {
   "cell_type": "code",
   "execution_count": 114,
   "id": "c0379896",
   "metadata": {},
   "outputs": [
    {
     "name": "stdout",
     "output_type": "stream",
     "text": [
      "Categories in 'gender' variable:  ['female' 'male']\n",
      "Categories in 'race/ethnicity' variable:  ['group B' 'group C' 'group A' 'group D' 'group E']\n",
      "Categories in 'parental level of education' variable:  [\"bachelor's degree\" 'some college' \"master's degree\" \"associate's degree\"\n",
      " 'high school' 'some high school']\n",
      "Categories in 'lunch' variable:  ['standard' 'free/reduced']\n",
      "Categories in 'test preparation course' variable:  ['none' 'completed']\n"
     ]
    }
   ],
   "source": [
    "print(\"Categories in 'gender' variable: \",end=\" \")\n",
    "print(df[\"gender\"].unique())\n",
    "\n",
    "print(\"Categories in 'race/ethnicity' variable: \",end=\" \")\n",
    "print(df[\"race/ethnicity\"].unique())\n",
    "\n",
    "print(\"Categories in 'parental level of education' variable: \",end=\" \")\n",
    "print(df[\"parental level of education\"].unique())\n",
    "\n",
    "print(\"Categories in 'lunch' variable: \",end=\" \")\n",
    "print(df[\"lunch\"].unique())\n",
    "\n",
    "print(\"Categories in 'test preparation course' variable: \",end=\" \")\n",
    "print(df[\"test preparation course\"].unique())\n"
   ]
  },
  {
   "cell_type": "code",
   "execution_count": 115,
   "id": "30643c1c",
   "metadata": {},
   "outputs": [],
   "source": [
    "#- Creation of transformer columns:\n",
    "\n",
    "num_cols=X.select_dtypes(exclude=\"object\").columns\n",
    "cat_cols=X.select_dtypes(include=\"object\").columns"
   ]
  },
  {
   "cell_type": "code",
   "execution_count": 116,
   "id": "f9a97905",
   "metadata": {},
   "outputs": [],
   "source": [
    "from sklearn.preprocessing import OneHotEncoder,StandardScaler\n",
    "from sklearn.compose import ColumnTransformer\n",
    "\n",
    "num_trans = StandardScaler()\n",
    "oh_trans = OneHotEncoder()\n",
    "\n",
    "prepocessor = ColumnTransformer(\n",
    "    [\n",
    "        (\"OneHotEncoder\",oh_trans,cat_cols),\n",
    "        (\"StandardScaler\",num_trans,num_cols)\n",
    "    ]\n",
    ")"
   ]
  },
  {
   "cell_type": "code",
   "execution_count": 117,
   "id": "a788d14d",
   "metadata": {},
   "outputs": [],
   "source": [
    "x = prepocessor.fit_transform(X)"
   ]
  },
  {
   "cell_type": "code",
   "execution_count": 118,
   "id": "9345e582",
   "metadata": {},
   "outputs": [
    {
     "data": {
      "text/plain": [
       "array([[ 1.        ,  0.        ,  0.        , ...,  1.        ,\n",
       "         0.19399858,  0.39149181],\n",
       "       [ 1.        ,  0.        ,  0.        , ...,  0.        ,\n",
       "         1.42747598,  1.31326868],\n",
       "       [ 1.        ,  0.        ,  0.        , ...,  1.        ,\n",
       "         1.77010859,  1.64247471],\n",
       "       ...,\n",
       "       [ 1.        ,  0.        ,  0.        , ...,  0.        ,\n",
       "         0.12547206, -0.20107904],\n",
       "       [ 1.        ,  0.        ,  0.        , ...,  0.        ,\n",
       "         0.60515772,  0.58901542],\n",
       "       [ 1.        ,  0.        ,  0.        , ...,  1.        ,\n",
       "         1.15336989,  1.18158627]])"
      ]
     },
     "execution_count": 118,
     "metadata": {},
     "output_type": "execute_result"
    }
   ],
   "source": [
    "x"
   ]
  },
  {
   "cell_type": "code",
   "execution_count": 119,
   "id": "5c6fdbbc",
   "metadata": {},
   "outputs": [
    {
     "data": {
      "text/plain": [
       "(1000, 19)"
      ]
     },
     "execution_count": 119,
     "metadata": {},
     "output_type": "execute_result"
    }
   ],
   "source": [
    "x.shape"
   ]
  },
  {
   "cell_type": "code",
   "execution_count": 120,
   "id": "32a9936d",
   "metadata": {},
   "outputs": [],
   "source": [
    "#-- Preparing Train and Test Split data:\n",
    "\n",
    "from sklearn.model_selection import train_test_split\n",
    "\n",
    "x_train,x_test,y_train,y_test = train_test_split(x,Y,test_size=0.25,random_state=42)"
   ]
  },
  {
   "cell_type": "code",
   "execution_count": 121,
   "id": "569803e2",
   "metadata": {},
   "outputs": [],
   "source": [
    "#-- Creating an evaluate function to give all metrics after model training:\n",
    "\n",
    "def evaluate_model(true,predict):\n",
    "    mae = mean_absolute_error(true,predict)\n",
    "    mse = mean_squared_error(true,predict)\n",
    "    rmse = np.sqrt(mean_squared_error(true,predict))\n",
    "    r2 = r2_score(true,predict)\n",
    "    return mae,mse,rmse,r2\n",
    "\n",
    "\n",
    " "
   ]
  },
  {
   "cell_type": "code",
   "execution_count": 122,
   "id": "fabc9105",
   "metadata": {},
   "outputs": [],
   "source": [
    "models = {\n",
    "    \"LR\" : LinearRegression(),\n",
    "    \"Lasso\" : Lasso(),\n",
    "    \"Ridge\" : Ridge(),\n",
    "    \"KNN\" : KNeighborsRegressor(),\n",
    "    \"DT\" : DecisionTreeRegressor(),\n",
    "    \"RF\" : RandomForestRegressor()\n",
    "}"
   ]
  },
  {
   "cell_type": "code",
   "execution_count": 123,
   "id": "ade6aeb7",
   "metadata": {},
   "outputs": [],
   "source": [
    "model_list = []\n",
    "r2_list = []"
   ]
  },
  {
   "cell_type": "code",
   "execution_count": 124,
   "id": "7550ca1f",
   "metadata": {},
   "outputs": [
    {
     "name": "stdout",
     "output_type": "stream",
     "text": [
      "(750, 19)\n",
      "(750,)\n"
     ]
    }
   ],
   "source": [
    "print(x_train.shape)\n",
    "print(y_train.shape)"
   ]
  },
  {
   "cell_type": "code",
   "execution_count": 125,
   "id": "4c9324f4",
   "metadata": {},
   "outputs": [
    {
     "name": "stdout",
     "output_type": "stream",
     "text": [
      "LR\n",
      "Model performance for Training Set\n",
      "- Root Mean Squared Error: 28.0608\n",
      "- Mean Absolute Error: 4.2383\n",
      "- R2 Score: 5.2972\n",
      "----------------------------------------------------\n",
      "Model performance for Test Set\n",
      "- Root Mean Squared Error: 30.0581\n",
      "- Mean Absolute Error: 4.3379\n",
      "- R2 Score: 5.4825\n",
      "===================================\n",
      "/n\n",
      "Lasso\n",
      "Model performance for Training Set\n",
      "- Root Mean Squared Error: 42.9223\n",
      "- Mean Absolute Error: 5.1837\n",
      "- R2 Score: 6.5515\n",
      "----------------------------------------------------\n",
      "Model performance for Test Set\n",
      "- Root Mean Squared Error: 44.2775\n",
      "- Mean Absolute Error: 5.2217\n",
      "- R2 Score: 6.6541\n",
      "===================================\n",
      "/n\n",
      "Ridge\n",
      "Model performance for Training Set\n",
      "- Root Mean Squared Error: 28.0642\n",
      "- Mean Absolute Error: 4.2368\n",
      "- R2 Score: 5.2976\n",
      "----------------------------------------------------\n",
      "Model performance for Test Set\n",
      "- Root Mean Squared Error: 30.0173\n",
      "- Mean Absolute Error: 4.3354\n",
      "- R2 Score: 5.4788\n",
      "===================================\n",
      "/n\n",
      "KNN\n",
      "Model performance for Training Set\n",
      "- Root Mean Squared Error: 33.4365\n",
      "- Mean Absolute Error: 4.5808\n",
      "- R2 Score: 5.7824\n",
      "----------------------------------------------------\n",
      "Model performance for Test Set\n",
      "- Root Mean Squared Error: 50.9259\n",
      "- Mean Absolute Error: 5.5256\n",
      "- R2 Score: 7.1362\n",
      "===================================\n",
      "/n\n",
      "DT\n",
      "Model performance for Training Set\n",
      "- Root Mean Squared Error: 0.0833\n",
      "- Mean Absolute Error: 0.0200\n",
      "- R2 Score: 0.2887\n",
      "----------------------------------------------------\n",
      "Model performance for Test Set\n",
      "- Root Mean Squared Error: 56.8320\n",
      "- Mean Absolute Error: 5.9840\n",
      "- R2 Score: 7.5387\n",
      "===================================\n",
      "/n\n",
      "RF\n",
      "Model performance for Training Set\n",
      "- Root Mean Squared Error: 5.4387\n",
      "- Mean Absolute Error: 1.8567\n",
      "- R2 Score: 2.3321\n",
      "----------------------------------------------------\n",
      "Model performance for Test Set\n",
      "- Root Mean Squared Error: 36.8098\n",
      "- Mean Absolute Error: 4.7768\n",
      "- R2 Score: 6.0671\n",
      "===================================\n",
      "/n\n"
     ]
    }
   ],
   "source": [
    "for i in range(len(list(models))):\n",
    "    model = list(models.values())[i]\n",
    "    model.fit(x_train, y_train)          #-- Train the Model\n",
    "\n",
    "    #-- Make Predictions\n",
    "    y_train_pred = model.predict(x_train)\n",
    "    y_test_pred = model.predict(x_test)\n",
    "\n",
    "    #-- Evaluate Train and Test Dataset\n",
    "\n",
    "    model_train_mae, model_train_rmse, model_train_r2, *_ = evaluate_model(y_train, y_train_pred)\n",
    "\n",
    "    model_test_mae, model_test_rmse, model_test_r2, *_ = evaluate_model(y_test, y_test_pred)  \n",
    "\n",
    "    print(list(models.keys())[i])\n",
    "    model_list.append(list(models.keys())[i])  \n",
    "\n",
    "    print(\"Model performance for Training Set\")\n",
    "    print(\"- Root Mean Squared Error: {:.4f}\".format(model_train_rmse))\n",
    "    print(\"- Mean Absolute Error: {:.4f}\".format(model_train_mae))\n",
    "    print(\"- R2 Score: {:.4f}\".format(model_train_r2))\n",
    "\n",
    "    print(\"----------------------------------------------------\")\n",
    "\n",
    "    print(\"Model performance for Test Set\")\n",
    "    print(\"- Root Mean Squared Error: {:.4f}\".format(model_test_rmse))\n",
    "    print(\"- Mean Absolute Error: {:.4f}\".format(model_test_mae))\n",
    "    print(\"- R2 Score: {:.4f}\".format(model_test_r2))\n",
    "\n",
    "    r2_list.append(model_test_r2)\n",
    "\n",
    "    print('='*35)\n",
    "    print('/n')\n",
    "\n"
   ]
  },
  {
   "cell_type": "code",
   "execution_count": 126,
   "id": "a3e95cde",
   "metadata": {},
   "outputs": [
    {
     "data": {
      "text/html": [
       "<div>\n",
       "<style scoped>\n",
       "    .dataframe tbody tr th:only-of-type {\n",
       "        vertical-align: middle;\n",
       "    }\n",
       "\n",
       "    .dataframe tbody tr th {\n",
       "        vertical-align: top;\n",
       "    }\n",
       "\n",
       "    .dataframe thead th {\n",
       "        text-align: right;\n",
       "    }\n",
       "</style>\n",
       "<table border=\"1\" class=\"dataframe\">\n",
       "  <thead>\n",
       "    <tr style=\"text-align: right;\">\n",
       "      <th></th>\n",
       "      <th>Modesl Name</th>\n",
       "      <th>R2_Score</th>\n",
       "    </tr>\n",
       "  </thead>\n",
       "  <tbody>\n",
       "    <tr>\n",
       "      <th>4</th>\n",
       "      <td>DT</td>\n",
       "      <td>7.538700</td>\n",
       "    </tr>\n",
       "    <tr>\n",
       "      <th>3</th>\n",
       "      <td>KNN</td>\n",
       "      <td>7.136240</td>\n",
       "    </tr>\n",
       "    <tr>\n",
       "      <th>1</th>\n",
       "      <td>Lasso</td>\n",
       "      <td>6.654136</td>\n",
       "    </tr>\n",
       "    <tr>\n",
       "      <th>5</th>\n",
       "      <td>RF</td>\n",
       "      <td>6.067111</td>\n",
       "    </tr>\n",
       "    <tr>\n",
       "      <th>0</th>\n",
       "      <td>LR</td>\n",
       "      <td>5.482528</td>\n",
       "    </tr>\n",
       "    <tr>\n",
       "      <th>2</th>\n",
       "      <td>Ridge</td>\n",
       "      <td>5.478806</td>\n",
       "    </tr>\n",
       "  </tbody>\n",
       "</table>\n",
       "</div>"
      ],
      "text/plain": [
       "  Modesl Name  R2_Score\n",
       "4          DT  7.538700\n",
       "3         KNN  7.136240\n",
       "1       Lasso  6.654136\n",
       "5          RF  6.067111\n",
       "0          LR  5.482528\n",
       "2       Ridge  5.478806"
      ]
     },
     "execution_count": 126,
     "metadata": {},
     "output_type": "execute_result"
    }
   ],
   "source": [
    "#Results\n",
    "\n",
    "pd.DataFrame(list(zip(model_list, r2_list)), columns=[\"Modesl Name\", \"R2_Score\"]).sort_values(by=[\"R2_Score\"],ascending=False)"
   ]
  },
  {
   "cell_type": "code",
   "execution_count": 127,
   "id": "3dfb928b",
   "metadata": {},
   "outputs": [
    {
     "name": "stdout",
     "output_type": "stream",
     "text": [
      "Accuracy of the model  87.78\n"
     ]
    }
   ],
   "source": [
    "lin_model = LinearRegression(fit_intercept=True)\n",
    "lin_model = lin_model.fit(x_train,y_train)\n",
    "\n",
    "y_pred = lin_model.predict(x_test)\n",
    "score = r2_score(y_test,y_pred)*100\n",
    "print(\"Accuracy of the model  %.2f\" %score)"
   ]
  },
  {
   "cell_type": "code",
   "execution_count": 128,
   "id": "e59364d4",
   "metadata": {},
   "outputs": [
    {
     "data": {
      "text/plain": [
       "Text(0, 0.5, 'Predicted')"
      ]
     },
     "execution_count": 128,
     "metadata": {},
     "output_type": "execute_result"
    },
    {
     "data": {
      "image/png": "[encoded data removed]",
      "text/plain": [
       "<Figure size 640x480 with 1 Axes>"
      ]
     },
     "metadata": {},
     "output_type": "display_data"
    }
   ],
   "source": [
    "#-- Plot y_pred and y_test\n",
    "\n",
    "plt.scatter(y_test,y_pred)\n",
    "plt.xlabel('Actual')\n",
    "plt.ylabel(\"Predicted\")"
   ]
  },
  {
   "cell_type": "code",
   "execution_count": 129,
   "id": "bd5c3e90",
   "metadata": {},
   "outputs": [
    {
     "data": {
      "text/plain": [
       "<Axes: xlabel='math score'>"
      ]
     },
     "execution_count": 129,
     "metadata": {},
     "output_type": "execute_result"
    },
    {
     "data": {
      "image/png": "[encoded data removed]",
      "text/plain": [
       "<Figure size 640x480 with 1 Axes>"
      ]
     },
     "metadata": {},
     "output_type": "display_data"
    }
   ],
   "source": [
    "sns.regplot(x=y_test,y=y_pred,ci=None,color='red')"
   ]
  },
  {
   "cell_type": "code",
   "execution_count": 130,
   "id": "a7dbed9c",
   "metadata": {},
   "outputs": [
    {
     "data": {
      "text/html": [
       "<div>\n",
       "<style scoped>\n",
       "    .dataframe tbody tr th:only-of-type {\n",
       "        vertical-align: middle;\n",
       "    }\n",
       "\n",
       "    .dataframe tbody tr th {\n",
       "        vertical-align: top;\n",
       "    }\n",
       "\n",
       "    .dataframe thead th {\n",
       "        text-align: right;\n",
       "    }\n",
       "</style>\n",
       "<table border=\"1\" class=\"dataframe\">\n",
       "  <thead>\n",
       "    <tr style=\"text-align: right;\">\n",
       "      <th></th>\n",
       "      <th>Actual Value</th>\n",
       "      <th>Predicted Value</th>\n",
       "      <th>Differance</th>\n",
       "    </tr>\n",
       "  </thead>\n",
       "  <tbody>\n",
       "    <tr>\n",
       "      <th>521</th>\n",
       "      <td>91</td>\n",
       "      <td>76.415556</td>\n",
       "      <td>14.584444</td>\n",
       "    </tr>\n",
       "    <tr>\n",
       "      <th>737</th>\n",
       "      <td>53</td>\n",
       "      <td>58.835356</td>\n",
       "      <td>-5.835356</td>\n",
       "    </tr>\n",
       "    <tr>\n",
       "      <th>740</th>\n",
       "      <td>80</td>\n",
       "      <td>76.907370</td>\n",
       "      <td>3.092630</td>\n",
       "    </tr>\n",
       "    <tr>\n",
       "      <th>660</th>\n",
       "      <td>74</td>\n",
       "      <td>76.760032</td>\n",
       "      <td>-2.760032</td>\n",
       "    </tr>\n",
       "    <tr>\n",
       "      <th>411</th>\n",
       "      <td>84</td>\n",
       "      <td>87.454007</td>\n",
       "      <td>-3.454007</td>\n",
       "    </tr>\n",
       "    <tr>\n",
       "      <th>...</th>\n",
       "      <td>...</td>\n",
       "      <td>...</td>\n",
       "      <td>...</td>\n",
       "    </tr>\n",
       "    <tr>\n",
       "      <th>109</th>\n",
       "      <td>70</td>\n",
       "      <td>64.035129</td>\n",
       "      <td>5.964871</td>\n",
       "    </tr>\n",
       "    <tr>\n",
       "      <th>430</th>\n",
       "      <td>64</td>\n",
       "      <td>63.158496</td>\n",
       "      <td>0.841504</td>\n",
       "    </tr>\n",
       "    <tr>\n",
       "      <th>77</th>\n",
       "      <td>80</td>\n",
       "      <td>82.733853</td>\n",
       "      <td>-2.733853</td>\n",
       "    </tr>\n",
       "    <tr>\n",
       "      <th>84</th>\n",
       "      <td>42</td>\n",
       "      <td>39.387374</td>\n",
       "      <td>2.612626</td>\n",
       "    </tr>\n",
       "    <tr>\n",
       "      <th>286</th>\n",
       "      <td>97</td>\n",
       "      <td>93.727782</td>\n",
       "      <td>3.272218</td>\n",
       "    </tr>\n",
       "  </tbody>\n",
       "</table>\n",
       "<p>250 rows × 3 columns</p>\n",
       "</div>"
      ],
      "text/plain": [
       "     Actual Value  Predicted Value  Differance\n",
       "521            91        76.415556   14.584444\n",
       "737            53        58.835356   -5.835356\n",
       "740            80        76.907370    3.092630\n",
       "660            74        76.760032   -2.760032\n",
       "411            84        87.454007   -3.454007\n",
       "..            ...              ...         ...\n",
       "109            70        64.035129    5.964871\n",
       "430            64        63.158496    0.841504\n",
       "77             80        82.733853   -2.733853\n",
       "84             42        39.387374    2.612626\n",
       "286            97        93.727782    3.272218\n",
       "\n",
       "[250 rows x 3 columns]"
      ]
     },
     "execution_count": 130,
     "metadata": {},
     "output_type": "execute_result"
    }
   ],
   "source": [
    "#-- Diifferance between Actual and Predicted Value:\n",
    "\n",
    "pred_df = pd.DataFrame({'Actual Value': y_test , 'Predicted Value': y_pred, 'Differance': y_test-y_pred})\n",
    "pred_df"
   ]
  },
  {
   "cell_type": "code",
   "execution_count": null,
   "id": "8ee2e5b8",
   "metadata": {},
   "outputs": [],
   "source": []
  }
 ],
 "metadata": {
  "kernelspec": {
   "display_name": "base",
   "language": "python",
   "name": "python3"
  },
  "language_info": {
   "codemirror_mode": {
    "name": "ipython",
    "version": 3
   },
   "file_extension": ".py",
   "mimetype": "text/x-python",
   "name": "python",
   "nbconvert_exporter": "python",
   "pygments_lexer": "ipython3",
   "version": "3.13.5"
  }
 },
 "nbformat": 4,
 "nbformat_minor": 5
}
