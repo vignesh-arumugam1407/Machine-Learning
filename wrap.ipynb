{
 "cells": [
  {
   "cell_type": "markdown",
   "id": "f19162b8",
   "metadata": {},
   "source": [
    "Wrapping Methods (Use like: Yes or no, Decisions making)\n",
    "\n",
    "its get the feature in groupby features from select best one."
   ]
  },
  {
   "cell_type": "markdown",
   "id": "820193b4",
   "metadata": {},
   "source": [
    "Norminal Value: Unorder ;\n",
    "Ordinal Value: Order ;\n",
    "Binary Value: 2 Choices\n"
   ]
  },
  {
   "cell_type": "markdown",
   "id": "56ed4b47",
   "metadata": {},
   "source": [
    "RECURSIVE FEATURE ELIMINATION (RFE)"
   ]
  },
  {
   "cell_type": "markdown",
   "id": "1da10e9c",
   "metadata": {},
   "source": [
    "We start with all the features in the model and then\n",
    "remove one feature at a time. After each removal, we\n",
    "check how well the model is doing. If the model's\n",
    "performance improves, we keep the feature\n",
    "removed; otherwise, we put it back. We repeat this\n",
    "process until we find the best combination of features\n",
    "that makes the model perform at its best."
   ]
  },
  {
   "cell_type": "markdown",
   "id": "bd5957a5",
   "metadata": {},
   "source": [
    "Set Of\n",
    "Features || ---\n",
    "Generate\n",
    "Subset  || ---\n",
    "Algorithm  || ---\n",
    "Performance"
   ]
  },
  {
   "cell_type": "markdown",
   "id": "4e388718",
   "metadata": {},
   "source": [
    "Used in Simple Dataset, it takes time too long. that main goal was when we optimizied the machine learning at that time we can use the wrapper method"
   ]
  },
  {
   "cell_type": "code",
   "execution_count": 6,
   "id": "0ed1a565",
   "metadata": {},
   "outputs": [],
   "source": [
    "#FEATURE ENCODING\n",
    "\n",
    "''' \n",
    "When we use feature encodiing ?\n",
    "\n",
    "we can change the categorical value to numerical value .\n",
    "Types of data :\n",
    "Unorder Data ---- Order Data ----- Binary data \n",
    "\n",
    "'''\n",
    "\n",
    "import pandas as pd\n",
    "from sklearn.preprocessing import LabelEncoder   #Change the categorical value to Numeric value \n",
    "#Orderable Data"
   ]
  },
  {
   "cell_type": "code",
   "execution_count": 7,
   "id": "e6d305b7",
   "metadata": {},
   "outputs": [],
   "source": [
    "data ={\n",
    "    'Item':['Shirt','Jeans','Dress','Chudi'],\n",
    "    'Color':['black','red','White','blue'],\n",
    "    'Size':['Medium','Large','Small','X-Large']\n",
    "}"
   ]
  },
  {
   "cell_type": "code",
   "execution_count": 8,
   "id": "42470238",
   "metadata": {},
   "outputs": [
    {
     "data": {
      "text/html": [
       "<div>\n",
       "<style scoped>\n",
       "    .dataframe tbody tr th:only-of-type {\n",
       "        vertical-align: middle;\n",
       "    }\n",
       "\n",
       "    .dataframe tbody tr th {\n",
       "        vertical-align: top;\n",
       "    }\n",
       "\n",
       "    .dataframe thead th {\n",
       "        text-align: right;\n",
       "    }\n",
       "</style>\n",
       "<table border=\"1\" class=\"dataframe\">\n",
       "  <thead>\n",
       "    <tr style=\"text-align: right;\">\n",
       "      <th></th>\n",
       "      <th>Item</th>\n",
       "      <th>Color</th>\n",
       "      <th>Size</th>\n",
       "    </tr>\n",
       "  </thead>\n",
       "  <tbody>\n",
       "    <tr>\n",
       "      <th>0</th>\n",
       "      <td>Shirt</td>\n",
       "      <td>black</td>\n",
       "      <td>Medium</td>\n",
       "    </tr>\n",
       "    <tr>\n",
       "      <th>1</th>\n",
       "      <td>Jeans</td>\n",
       "      <td>red</td>\n",
       "      <td>Large</td>\n",
       "    </tr>\n",
       "    <tr>\n",
       "      <th>2</th>\n",
       "      <td>Dress</td>\n",
       "      <td>White</td>\n",
       "      <td>Small</td>\n",
       "    </tr>\n",
       "    <tr>\n",
       "      <th>3</th>\n",
       "      <td>Chudi</td>\n",
       "      <td>blue</td>\n",
       "      <td>X-Large</td>\n",
       "    </tr>\n",
       "  </tbody>\n",
       "</table>\n",
       "</div>"
      ],
      "text/plain": [
       "    Item  Color     Size\n",
       "0  Shirt  black   Medium\n",
       "1  Jeans    red    Large\n",
       "2  Dress  White    Small\n",
       "3  Chudi   blue  X-Large"
      ]
     },
     "execution_count": 8,
     "metadata": {},
     "output_type": "execute_result"
    }
   ],
   "source": [
    "df=pd.DataFrame(data)\n",
    "df"
   ]
  },
  {
   "cell_type": "code",
   "execution_count": 9,
   "id": "f0170417",
   "metadata": {},
   "outputs": [],
   "source": [
    "#LABEL ENCODING:(When Order Data)\n",
    "\n",
    "encoder=LabelEncoder()   "
   ]
  },
  {
   "cell_type": "code",
   "execution_count": 10,
   "id": "264eeac2",
   "metadata": {},
   "outputs": [
    {
     "data": {
      "text/plain": [
       "\"\\ndf['Encoded_Size'] -- We create a New column .\\nchange the Size column in to Numerical data type.\\n\""
      ]
     },
     "execution_count": 10,
     "metadata": {},
     "output_type": "execute_result"
    }
   ],
   "source": [
    "#For Change Chategrical value to Numerical Value\n",
    "\n",
    "df['Encoded_Size']=encoder.fit_transform(df['Size'])\n",
    "\n",
    "'''\n",
    "df['Encoded_Size'] -- We create a New column .\n",
    "change the Size column in to Numerical data type.\n",
    "'''"
   ]
  },
  {
   "cell_type": "code",
   "execution_count": 11,
   "id": "a194580f",
   "metadata": {},
   "outputs": [
    {
     "data": {
      "text/html": [
       "<div>\n",
       "<style scoped>\n",
       "    .dataframe tbody tr th:only-of-type {\n",
       "        vertical-align: middle;\n",
       "    }\n",
       "\n",
       "    .dataframe tbody tr th {\n",
       "        vertical-align: top;\n",
       "    }\n",
       "\n",
       "    .dataframe thead th {\n",
       "        text-align: right;\n",
       "    }\n",
       "</style>\n",
       "<table border=\"1\" class=\"dataframe\">\n",
       "  <thead>\n",
       "    <tr style=\"text-align: right;\">\n",
       "      <th></th>\n",
       "      <th>Item</th>\n",
       "      <th>Color</th>\n",
       "      <th>Size</th>\n",
       "      <th>Encoded_Size</th>\n",
       "    </tr>\n",
       "  </thead>\n",
       "  <tbody>\n",
       "    <tr>\n",
       "      <th>0</th>\n",
       "      <td>Shirt</td>\n",
       "      <td>black</td>\n",
       "      <td>Medium</td>\n",
       "      <td>1</td>\n",
       "    </tr>\n",
       "    <tr>\n",
       "      <th>1</th>\n",
       "      <td>Jeans</td>\n",
       "      <td>red</td>\n",
       "      <td>Large</td>\n",
       "      <td>0</td>\n",
       "    </tr>\n",
       "    <tr>\n",
       "      <th>2</th>\n",
       "      <td>Dress</td>\n",
       "      <td>White</td>\n",
       "      <td>Small</td>\n",
       "      <td>2</td>\n",
       "    </tr>\n",
       "    <tr>\n",
       "      <th>3</th>\n",
       "      <td>Chudi</td>\n",
       "      <td>blue</td>\n",
       "      <td>X-Large</td>\n",
       "      <td>3</td>\n",
       "    </tr>\n",
       "  </tbody>\n",
       "</table>\n",
       "</div>"
      ],
      "text/plain": [
       "    Item  Color     Size  Encoded_Size\n",
       "0  Shirt  black   Medium             1\n",
       "1  Jeans    red    Large             0\n",
       "2  Dress  White    Small             2\n",
       "3  Chudi   blue  X-Large             3"
      ]
     },
     "execution_count": 11,
     "metadata": {},
     "output_type": "execute_result"
    }
   ],
   "source": [
    "df  "
   ]
  },
  {
   "cell_type": "code",
   "execution_count": 12,
   "id": "9e3af2a6",
   "metadata": {},
   "outputs": [],
   "source": [
    "#One-Hot Encoder(When Unorder Data)\n",
    "from sklearn.preprocessing import OneHotEncoder"
   ]
  },
  {
   "cell_type": "code",
   "execution_count": 13,
   "id": "bfe35e27",
   "metadata": {},
   "outputs": [],
   "source": [
    "data1={\n",
    "    'Fruit':['banana','apple','maa','orange'],\n",
    "    'Color':['yellow','red','green','orange']\n",
    "}"
   ]
  },
  {
   "cell_type": "code",
   "execution_count": 14,
   "id": "078235ee",
   "metadata": {},
   "outputs": [
    {
     "data": {
      "text/html": [
       "<div>\n",
       "<style scoped>\n",
       "    .dataframe tbody tr th:only-of-type {\n",
       "        vertical-align: middle;\n",
       "    }\n",
       "\n",
       "    .dataframe tbody tr th {\n",
       "        vertical-align: top;\n",
       "    }\n",
       "\n",
       "    .dataframe thead th {\n",
       "        text-align: right;\n",
       "    }\n",
       "</style>\n",
       "<table border=\"1\" class=\"dataframe\">\n",
       "  <thead>\n",
       "    <tr style=\"text-align: right;\">\n",
       "      <th></th>\n",
       "      <th>Fruit</th>\n",
       "      <th>Color</th>\n",
       "    </tr>\n",
       "  </thead>\n",
       "  <tbody>\n",
       "    <tr>\n",
       "      <th>0</th>\n",
       "      <td>banana</td>\n",
       "      <td>yellow</td>\n",
       "    </tr>\n",
       "    <tr>\n",
       "      <th>1</th>\n",
       "      <td>apple</td>\n",
       "      <td>red</td>\n",
       "    </tr>\n",
       "    <tr>\n",
       "      <th>2</th>\n",
       "      <td>maa</td>\n",
       "      <td>green</td>\n",
       "    </tr>\n",
       "    <tr>\n",
       "      <th>3</th>\n",
       "      <td>orange</td>\n",
       "      <td>orange</td>\n",
       "    </tr>\n",
       "  </tbody>\n",
       "</table>\n",
       "</div>"
      ],
      "text/plain": [
       "    Fruit   Color\n",
       "0  banana  yellow\n",
       "1   apple     red\n",
       "2     maa   green\n",
       "3  orange  orange"
      ]
     },
     "execution_count": 14,
     "metadata": {},
     "output_type": "execute_result"
    }
   ],
   "source": [
    "df1=pd.DataFrame(data1)\n",
    "df1"
   ]
  },
  {
   "cell_type": "code",
   "execution_count": 15,
   "id": "f429e70a",
   "metadata": {},
   "outputs": [],
   "source": [
    "encoder1=OneHotEncoder()            #-- Unorder Data value convert into numerical value"
   ]
  },
  {
   "cell_type": "code",
   "execution_count": 24,
   "id": "860a953b",
   "metadata": {},
   "outputs": [
    {
     "data": {
      "text/plain": [
       "array([[0., 0., 0., 1.],\n",
       "       [0., 0., 1., 0.],\n",
       "       [1., 0., 0., 0.],\n",
       "       [0., 1., 0., 0.]])"
      ]
     },
     "execution_count": 24,
     "metadata": {},
     "output_type": "execute_result"
    }
   ],
   "source": [
    "encoded_colors=encoder1.fit_transform(df1[['Color']]).toarray()      #Convert numerical value then change array format. \n",
    "encoded_colors"
   ]
  },
  {
   "cell_type": "code",
   "execution_count": null,
   "id": "2d457f5e",
   "metadata": {},
   "outputs": [],
   "source": [
    "#-- We create the column name for the converted numeric data\n",
    "encoded_df=pd.DataFrame(encoded_colors,columns=encoder1.get_feature_names_out(['Color']))     #- Returns the names of the new columns created from 'Color'—like Color_Blue, Color_Green,\n"
   ]
  },
  {
   "cell_type": "code",
   "execution_count": null,
   "id": "aa46f077",
   "metadata": {},
   "outputs": [
    {
     "data": {
      "text/html": [
       "<div>\n",
       "<style scoped>\n",
       "    .dataframe tbody tr th:only-of-type {\n",
       "        vertical-align: middle;\n",
       "    }\n",
       "\n",
       "    .dataframe tbody tr th {\n",
       "        vertical-align: top;\n",
       "    }\n",
       "\n",
       "    .dataframe thead th {\n",
       "        text-align: right;\n",
       "    }\n",
       "</style>\n",
       "<table border=\"1\" class=\"dataframe\">\n",
       "  <thead>\n",
       "    <tr style=\"text-align: right;\">\n",
       "      <th></th>\n",
       "      <th>Fruit</th>\n",
       "      <th>Color</th>\n",
       "      <th>Color_green</th>\n",
       "      <th>Color_orange</th>\n",
       "      <th>Color_red</th>\n",
       "      <th>Color_yellow</th>\n",
       "    </tr>\n",
       "  </thead>\n",
       "  <tbody>\n",
       "    <tr>\n",
       "      <th>0</th>\n",
       "      <td>banana</td>\n",
       "      <td>yellow</td>\n",
       "      <td>0.0</td>\n",
       "      <td>0.0</td>\n",
       "      <td>0.0</td>\n",
       "      <td>1.0</td>\n",
       "    </tr>\n",
       "    <tr>\n",
       "      <th>1</th>\n",
       "      <td>apple</td>\n",
       "      <td>red</td>\n",
       "      <td>0.0</td>\n",
       "      <td>0.0</td>\n",
       "      <td>1.0</td>\n",
       "      <td>0.0</td>\n",
       "    </tr>\n",
       "    <tr>\n",
       "      <th>2</th>\n",
       "      <td>maa</td>\n",
       "      <td>green</td>\n",
       "      <td>1.0</td>\n",
       "      <td>0.0</td>\n",
       "      <td>0.0</td>\n",
       "      <td>0.0</td>\n",
       "    </tr>\n",
       "    <tr>\n",
       "      <th>3</th>\n",
       "      <td>orange</td>\n",
       "      <td>orange</td>\n",
       "      <td>0.0</td>\n",
       "      <td>1.0</td>\n",
       "      <td>0.0</td>\n",
       "      <td>0.0</td>\n",
       "    </tr>\n",
       "  </tbody>\n",
       "</table>\n",
       "</div>"
      ],
      "text/plain": [
       "    Fruit   Color  Color_green  Color_orange  Color_red  Color_yellow\n",
       "0  banana  yellow          0.0           0.0        0.0           1.0\n",
       "1   apple     red          0.0           0.0        1.0           0.0\n",
       "2     maa   green          1.0           0.0        0.0           0.0\n",
       "3  orange  orange          0.0           1.0        0.0           0.0"
      ]
     },
     "execution_count": 25,
     "metadata": {},
     "output_type": "execute_result"
    }
   ],
   "source": [
    "df_encoded=pd.concat([df1,encoded_df],axis=1)  #For Concatination , axis-1 for column \n",
    "df_encoded"
   ]
  }
 ],
 "metadata": {
  "kernelspec": {
   "display_name": ".venv",
   "language": "python",
   "name": "python3"
  },
  "language_info": {
   "codemirror_mode": {
    "name": "ipython",
    "version": 3
   },
   "file_extension": ".py",
   "mimetype": "text/x-python",
   "name": "python",
   "nbconvert_exporter": "python",
   "pygments_lexer": "ipython3",
   "version": "3.13.0"
  }
 },
 "nbformat": 4,
 "nbformat_minor": 5
}
