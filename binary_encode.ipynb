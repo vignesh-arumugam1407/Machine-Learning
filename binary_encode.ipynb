{
 "cells": [
  {
   "cell_type": "markdown",
   "id": "cf5659ab",
   "metadata": {},
   "source": [
    "BINARY ENCODING"
   ]
  },
  {
   "cell_type": "markdown",
   "id": "b9b6db7d",
   "metadata": {},
   "source": [
    "It is used for more types of categorize"
   ]
  },
  {
   "cell_type": "code",
   "execution_count": 2,
   "id": "005eb4a5",
   "metadata": {},
   "outputs": [
    {
     "name": "stdout",
     "output_type": "stream",
     "text": [
      "Requirement already satisfied: category_encoders in d:\\python\\ai & ml\\.venv\\lib\\site-packages (2.8.1)\n",
      "Requirement already satisfied: numpy>=1.14.0 in d:\\python\\ai & ml\\.venv\\lib\\site-packages (from category_encoders) (2.3.1)\n",
      "Requirement already satisfied: pandas>=1.0.5 in d:\\python\\ai & ml\\.venv\\lib\\site-packages (from category_encoders) (2.3.1)\n",
      "Requirement already satisfied: patsy>=0.5.1 in d:\\python\\ai & ml\\.venv\\lib\\site-packages (from category_encoders) (1.0.1)\n",
      "Requirement already satisfied: scikit-learn>=1.6.0 in d:\\python\\ai & ml\\.venv\\lib\\site-packages (from category_encoders) (1.7.0)\n",
      "Requirement already satisfied: scipy>=1.0.0 in d:\\python\\ai & ml\\.venv\\lib\\site-packages (from category_encoders) (1.16.0)\n",
      "Requirement already satisfied: statsmodels>=0.9.0 in d:\\python\\ai & ml\\.venv\\lib\\site-packages (from category_encoders) (0.14.5)\n",
      "Requirement already satisfied: python-dateutil>=2.8.2 in d:\\python\\ai & ml\\.venv\\lib\\site-packages (from pandas>=1.0.5->category_encoders) (2.9.0.post0)\n",
      "Requirement already satisfied: pytz>=2020.1 in d:\\python\\ai & ml\\.venv\\lib\\site-packages (from pandas>=1.0.5->category_encoders) (2025.2)\n",
      "Requirement already satisfied: tzdata>=2022.7 in d:\\python\\ai & ml\\.venv\\lib\\site-packages (from pandas>=1.0.5->category_encoders) (2025.2)\n",
      "Requirement already satisfied: six>=1.5 in d:\\python\\ai & ml\\.venv\\lib\\site-packages (from python-dateutil>=2.8.2->pandas>=1.0.5->category_encoders) (1.17.0)\n",
      "Requirement already satisfied: joblib>=1.2.0 in d:\\python\\ai & ml\\.venv\\lib\\site-packages (from scikit-learn>=1.6.0->category_encoders) (1.5.1)\n",
      "Requirement already satisfied: threadpoolctl>=3.1.0 in d:\\python\\ai & ml\\.venv\\lib\\site-packages (from scikit-learn>=1.6.0->category_encoders) (3.6.0)\n",
      "Requirement already satisfied: packaging>=21.3 in d:\\python\\ai & ml\\.venv\\lib\\site-packages (from statsmodels>=0.9.0->category_encoders) (25.0)\n",
      "Note: you may need to restart the kernel to use updated packages.\n"
     ]
    }
   ],
   "source": [
    "pip install category_encoders"
   ]
  },
  {
   "cell_type": "code",
   "execution_count": 1,
   "id": "a65ef789",
   "metadata": {},
   "outputs": [],
   "source": [
    "#Binary Code : (When categories data)\n",
    "import pandas as pd\n",
    "from category_encoders import BinaryEncoder"
   ]
  },
  {
   "cell_type": "code",
   "execution_count": 3,
   "id": "84f138f3",
   "metadata": {},
   "outputs": [],
   "source": [
    "data={\n",
    "    'Device':['Laptop','Tv','Smartphone','Tablet'],\n",
    "    'Portable':['yes','no','yes','no']\n",
    "}"
   ]
  },
  {
   "cell_type": "code",
   "execution_count": 4,
   "id": "a97491dd",
   "metadata": {},
   "outputs": [
    {
     "data": {
      "text/html": [
       "<div>\n",
       "<style scoped>\n",
       "    .dataframe tbody tr th:only-of-type {\n",
       "        vertical-align: middle;\n",
       "    }\n",
       "\n",
       "    .dataframe tbody tr th {\n",
       "        vertical-align: top;\n",
       "    }\n",
       "\n",
       "    .dataframe thead th {\n",
       "        text-align: right;\n",
       "    }\n",
       "</style>\n",
       "<table border=\"1\" class=\"dataframe\">\n",
       "  <thead>\n",
       "    <tr style=\"text-align: right;\">\n",
       "      <th></th>\n",
       "      <th>Device</th>\n",
       "      <th>Portable</th>\n",
       "    </tr>\n",
       "  </thead>\n",
       "  <tbody>\n",
       "    <tr>\n",
       "      <th>0</th>\n",
       "      <td>Laptop</td>\n",
       "      <td>yes</td>\n",
       "    </tr>\n",
       "    <tr>\n",
       "      <th>1</th>\n",
       "      <td>Tv</td>\n",
       "      <td>no</td>\n",
       "    </tr>\n",
       "    <tr>\n",
       "      <th>2</th>\n",
       "      <td>Smartphone</td>\n",
       "      <td>yes</td>\n",
       "    </tr>\n",
       "    <tr>\n",
       "      <th>3</th>\n",
       "      <td>Tablet</td>\n",
       "      <td>no</td>\n",
       "    </tr>\n",
       "  </tbody>\n",
       "</table>\n",
       "</div>"
      ],
      "text/plain": [
       "       Device Portable\n",
       "0      Laptop      yes\n",
       "1          Tv       no\n",
       "2  Smartphone      yes\n",
       "3      Tablet       no"
      ]
     },
     "execution_count": 4,
     "metadata": {},
     "output_type": "execute_result"
    }
   ],
   "source": [
    "df=pd.DataFrame(data)\n",
    "df"
   ]
  },
  {
   "cell_type": "code",
   "execution_count": null,
   "id": "ede4773d",
   "metadata": {},
   "outputs": [],
   "source": [
    "encoder=BinaryEncoder(cols=['Portable'])  #Portable column is change to binary encode"
   ]
  },
  {
   "cell_type": "code",
   "execution_count": null,
   "id": "7d691c06",
   "metadata": {},
   "outputs": [
    {
     "data": {
      "text/html": [
       "<div>\n",
       "<style scoped>\n",
       "    .dataframe tbody tr th:only-of-type {\n",
       "        vertical-align: middle;\n",
       "    }\n",
       "\n",
       "    .dataframe tbody tr th {\n",
       "        vertical-align: top;\n",
       "    }\n",
       "\n",
       "    .dataframe thead th {\n",
       "        text-align: right;\n",
       "    }\n",
       "</style>\n",
       "<table border=\"1\" class=\"dataframe\">\n",
       "  <thead>\n",
       "    <tr style=\"text-align: right;\">\n",
       "      <th></th>\n",
       "      <th>Device</th>\n",
       "      <th>Portable_0</th>\n",
       "      <th>Portable_1</th>\n",
       "    </tr>\n",
       "  </thead>\n",
       "  <tbody>\n",
       "    <tr>\n",
       "      <th>0</th>\n",
       "      <td>Laptop</td>\n",
       "      <td>0</td>\n",
       "      <td>1</td>\n",
       "    </tr>\n",
       "    <tr>\n",
       "      <th>1</th>\n",
       "      <td>Tv</td>\n",
       "      <td>1</td>\n",
       "      <td>0</td>\n",
       "    </tr>\n",
       "    <tr>\n",
       "      <th>2</th>\n",
       "      <td>Smartphone</td>\n",
       "      <td>0</td>\n",
       "      <td>1</td>\n",
       "    </tr>\n",
       "    <tr>\n",
       "      <th>3</th>\n",
       "      <td>Tablet</td>\n",
       "      <td>1</td>\n",
       "      <td>0</td>\n",
       "    </tr>\n",
       "  </tbody>\n",
       "</table>\n",
       "</div>"
      ],
      "text/plain": [
       "       Device  Portable_0  Portable_1\n",
       "0      Laptop           0           1\n",
       "1          Tv           1           0\n",
       "2  Smartphone           0           1\n",
       "3      Tablet           1           0"
      ]
     },
     "execution_count": 6,
     "metadata": {},
     "output_type": "execute_result"
    }
   ],
   "source": [
    "df_encoded=encoder.fit_transform(df)    #p_0 means No,p_1 means Yes\n",
    "df_encoded"
   ]
  },
  {
   "cell_type": "markdown",
   "id": "53283cd8",
   "metadata": {},
   "source": [
    "\n",
    "\n",
    "| 🛠️ Technique       | 📅 When to Use It                                   | ⚙️ What It Does                                             |\n",
    "|--------------------|-----------------------------------------------------|-------------------------------------------------------------|\n",
    "| **Label Encoding** | When working with ordinal categorical data          | Converts categorical values to unique numbers              |\n",
    "| **One-Hot Encoding**| When categories have no inherent order             | Converts each category to a binary column                  |\n",
    "| **Binary Encoding**| When dealing with high-cardinality categorical data | Converts categories to binary code representation          |\n",
    "\n",
    "---\n"
   ]
  }
 ],
 "metadata": {
  "kernelspec": {
   "display_name": ".venv",
   "language": "python",
   "name": "python3"
  },
  "language_info": {
   "codemirror_mode": {
    "name": "ipython",
    "version": 3
   },
   "file_extension": ".py",
   "mimetype": "text/x-python",
   "name": "python",
   "nbconvert_exporter": "python",
   "pygments_lexer": "ipython3",
   "version": "3.13.0"
  }
 },
 "nbformat": 4,
 "nbformat_minor": 5
}
