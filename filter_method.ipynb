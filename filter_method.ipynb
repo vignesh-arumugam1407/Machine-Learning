{
 "cells": [
  {
   "cell_type": "markdown",
   "id": "65dc9540",
   "metadata": {},
   "source": [
    "Filter method is used for indepentent feature relation to related in output. used for Large Dataset, large features , get fast output and simple , only relation between feature and Target."
   ]
  },
  {
   "cell_type": "code",
   "execution_count": 1,
   "id": "3ba9e953",
   "metadata": {},
   "outputs": [],
   "source": [
    "import pandas as pd"
   ]
  },
  {
   "cell_type": "code",
   "execution_count": 2,
   "id": "5431da03",
   "metadata": {},
   "outputs": [],
   "source": [
    "data = {\n",
    "    'Age' : [20,28,32,40],\n",
    "    'Income' : [20000,25000,40000,13000],\n",
    "    'Loan_Approval' : [1,0,0,1]\n",
    "}"
   ]
  },
  {
   "cell_type": "code",
   "execution_count": 3,
   "id": "1dd53042",
   "metadata": {},
   "outputs": [
    {
     "data": {
      "text/html": [
       "<div>\n",
       "<style scoped>\n",
       "    .dataframe tbody tr th:only-of-type {\n",
       "        vertical-align: middle;\n",
       "    }\n",
       "\n",
       "    .dataframe tbody tr th {\n",
       "        vertical-align: top;\n",
       "    }\n",
       "\n",
       "    .dataframe thead th {\n",
       "        text-align: right;\n",
       "    }\n",
       "</style>\n",
       "<table border=\"1\" class=\"dataframe\">\n",
       "  <thead>\n",
       "    <tr style=\"text-align: right;\">\n",
       "      <th></th>\n",
       "      <th>Age</th>\n",
       "      <th>Income</th>\n",
       "      <th>Loan_Approval</th>\n",
       "    </tr>\n",
       "  </thead>\n",
       "  <tbody>\n",
       "    <tr>\n",
       "      <th>0</th>\n",
       "      <td>20</td>\n",
       "      <td>20000</td>\n",
       "      <td>1</td>\n",
       "    </tr>\n",
       "    <tr>\n",
       "      <th>1</th>\n",
       "      <td>28</td>\n",
       "      <td>25000</td>\n",
       "      <td>0</td>\n",
       "    </tr>\n",
       "    <tr>\n",
       "      <th>2</th>\n",
       "      <td>32</td>\n",
       "      <td>40000</td>\n",
       "      <td>0</td>\n",
       "    </tr>\n",
       "    <tr>\n",
       "      <th>3</th>\n",
       "      <td>40</td>\n",
       "      <td>13000</td>\n",
       "      <td>1</td>\n",
       "    </tr>\n",
       "  </tbody>\n",
       "</table>\n",
       "</div>"
      ],
      "text/plain": [
       "   Age  Income  Loan_Approval\n",
       "0   20   20000              1\n",
       "1   28   25000              0\n",
       "2   32   40000              0\n",
       "3   40   13000              1"
      ]
     },
     "execution_count": 3,
     "metadata": {},
     "output_type": "execute_result"
    }
   ],
   "source": [
    "df = pd.DataFrame(data)\n",
    "df"
   ]
  },
  {
   "cell_type": "code",
   "execution_count": 4,
   "id": "a45d8a24",
   "metadata": {},
   "outputs": [
    {
     "data": {
      "text/html": [
       "<div>\n",
       "<style scoped>\n",
       "    .dataframe tbody tr th:only-of-type {\n",
       "        vertical-align: middle;\n",
       "    }\n",
       "\n",
       "    .dataframe tbody tr th {\n",
       "        vertical-align: top;\n",
       "    }\n",
       "\n",
       "    .dataframe thead th {\n",
       "        text-align: right;\n",
       "    }\n",
       "</style>\n",
       "<table border=\"1\" class=\"dataframe\">\n",
       "  <thead>\n",
       "    <tr style=\"text-align: right;\">\n",
       "      <th></th>\n",
       "      <th>Age</th>\n",
       "      <th>Income</th>\n",
       "      <th>Loan_Approval</th>\n",
       "    </tr>\n",
       "  </thead>\n",
       "  <tbody>\n",
       "    <tr>\n",
       "      <th>Age</th>\n",
       "      <td>1.000000e+00</td>\n",
       "      <td>-0.139905</td>\n",
       "      <td>-6.158409e-17</td>\n",
       "    </tr>\n",
       "    <tr>\n",
       "      <th>Income</th>\n",
       "      <td>-1.399046e-01</td>\n",
       "      <td>1.000000</td>\n",
       "      <td>-8.070932e-01</td>\n",
       "    </tr>\n",
       "    <tr>\n",
       "      <th>Loan_Approval</th>\n",
       "      <td>-6.158409e-17</td>\n",
       "      <td>-0.807093</td>\n",
       "      <td>1.000000e+00</td>\n",
       "    </tr>\n",
       "  </tbody>\n",
       "</table>\n",
       "</div>"
      ],
      "text/plain": [
       "                        Age    Income  Loan_Approval\n",
       "Age            1.000000e+00 -0.139905  -6.158409e-17\n",
       "Income        -1.399046e-01  1.000000  -8.070932e-01\n",
       "Loan_Approval -6.158409e-17 -0.807093   1.000000e+00"
      ]
     },
     "execution_count": 4,
     "metadata": {},
     "output_type": "execute_result"
    }
   ],
   "source": [
    "df.corr()"
   ]
  },
  {
   "cell_type": "code",
   "execution_count": 5,
   "id": "835f3849",
   "metadata": {},
   "outputs": [
    {
     "data": {
      "text/plain": [
       "Age             -6.158409e-17\n",
       "Income          -8.070932e-01\n",
       "Loan_Approval    1.000000e+00\n",
       "Name: Loan_Approval, dtype: float64"
      ]
     },
     "execution_count": 5,
     "metadata": {},
     "output_type": "execute_result"
    }
   ],
   "source": [
    "correlation  = df.corr()['Loan_Approval']\n",
    "correlation"
   ]
  },
  {
   "cell_type": "code",
   "execution_count": null,
   "id": "157dbc3d",
   "metadata": {},
   "outputs": [
    {
     "data": {
      "text/plain": [
       "Age              6.158409e-17\n",
       "Income           8.070932e-01\n",
       "Loan_Approval    1.000000e+00\n",
       "Name: Loan_Approval, dtype: float64"
      ]
     },
     "execution_count": 6,
     "metadata": {},
     "output_type": "execute_result"
    }
   ],
   "source": [
    "correlation.abs()         #Absolute possitive Value"
   ]
  },
  {
   "cell_type": "code",
   "execution_count": 8,
   "id": "6112c71d",
   "metadata": {},
   "outputs": [
    {
     "data": {
      "text/plain": [
       "Loan_Approval    1.000000e+00\n",
       "Age             -6.158409e-17\n",
       "Income          -8.070932e-01\n",
       "Name: Loan_Approval, dtype: float64"
      ]
     },
     "execution_count": 8,
     "metadata": {},
     "output_type": "execute_result"
    }
   ],
   "source": [
    "sorted_features = correlation.sort_values(ascending=False)\n",
    "sorted_features"
   ]
  }
 ],
 "metadata": {
  "kernelspec": {
   "display_name": ".venv",
   "language": "python",
   "name": "python3"
  },
  "language_info": {
   "codemirror_mode": {
    "name": "ipython",
    "version": 3
   },
   "file_extension": ".py",
   "mimetype": "text/x-python",
   "name": "python",
   "nbconvert_exporter": "python",
   "pygments_lexer": "ipython3",
   "version": "3.13.0"
  }
 },
 "nbformat": 4,
 "nbformat_minor": 5
}
