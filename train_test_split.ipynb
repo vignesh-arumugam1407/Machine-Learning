{
 "cells": [
  {
   "cell_type": "markdown",
   "id": "31b3609e",
   "metadata": {},
   "source": [
    "UNDER SAMPLING"
   ]
  },
  {
   "cell_type": "markdown",
   "id": "ea5f14a9",
   "metadata": {},
   "source": [
    "This method is used when quantity of data is\n",
    "sufficient. By keeping all samples in the rare\n",
    "class and randomly selecting an equal number of\n",
    "samples in the abundant class, a balanced new\n",
    "dataset can be retrieved for further modelling.\n",
    "\n",
    "Remove the extra datas , More over equals to the next feature "
   ]
  },
  {
   "cell_type": "markdown",
   "id": "79b9e999",
   "metadata": {},
   "source": [
    "OVER SAMPLING"
   ]
  },
  {
   "cell_type": "markdown",
   "id": "3170816c",
   "metadata": {},
   "source": [
    "Oversampling is used when the quantity of data\n",
    "is insufficient. It tries to balance dataset by\n",
    "increasing the size of rare samples.\n",
    "\n",
    "Used in SMOTE Method \n",
    "\n",
    "SMOTE -- Synthetic Minority Over Technique."
   ]
  },
  {
   "cell_type": "markdown",
   "id": "99e244ce",
   "metadata": {},
   "source": [
    "COMMON TRAIN-TEST SPLIT PERCENTAGE\n",
    "\n",
    "•Train: 80%, Test: 20%\n",
    "\n",
    "•Train: 75%, Test: 25%\n",
    "\n",
    "•Train: 67%, Test: 33%\n",
    "\n",
    "•Train: 50%, Test: 50%"
   ]
  },
  {
   "cell_type": "code",
   "execution_count": 1,
   "id": "0bf69e4a",
   "metadata": {},
   "outputs": [],
   "source": [
    "import pandas as pd\n",
    "from sklearn.model_selection import train_test_split"
   ]
  },
  {
   "cell_type": "code",
   "execution_count": 2,
   "id": "bbed4b4a",
   "metadata": {},
   "outputs": [],
   "source": [
    "data={\n",
    "    'Feature1':[1,2,3,4,5,6,7,8,9,10],\n",
    "    'Feature2':[10,9,8,7,6,5,4,3,2,1],\n",
    "    'Target':[1,0,0,1,0,1,1,0,0,1]\n",
    "}"
   ]
  },
  {
   "cell_type": "code",
   "execution_count": 3,
   "id": "64510f1f",
   "metadata": {},
   "outputs": [
    {
     "data": {
      "text/html": [
       "<div>\n",
       "<style scoped>\n",
       "    .dataframe tbody tr th:only-of-type {\n",
       "        vertical-align: middle;\n",
       "    }\n",
       "\n",
       "    .dataframe tbody tr th {\n",
       "        vertical-align: top;\n",
       "    }\n",
       "\n",
       "    .dataframe thead th {\n",
       "        text-align: right;\n",
       "    }\n",
       "</style>\n",
       "<table border=\"1\" class=\"dataframe\">\n",
       "  <thead>\n",
       "    <tr style=\"text-align: right;\">\n",
       "      <th></th>\n",
       "      <th>Feature1</th>\n",
       "      <th>Feature2</th>\n",
       "      <th>Target</th>\n",
       "    </tr>\n",
       "  </thead>\n",
       "  <tbody>\n",
       "    <tr>\n",
       "      <th>0</th>\n",
       "      <td>1</td>\n",
       "      <td>10</td>\n",
       "      <td>1</td>\n",
       "    </tr>\n",
       "    <tr>\n",
       "      <th>1</th>\n",
       "      <td>2</td>\n",
       "      <td>9</td>\n",
       "      <td>0</td>\n",
       "    </tr>\n",
       "    <tr>\n",
       "      <th>2</th>\n",
       "      <td>3</td>\n",
       "      <td>8</td>\n",
       "      <td>0</td>\n",
       "    </tr>\n",
       "    <tr>\n",
       "      <th>3</th>\n",
       "      <td>4</td>\n",
       "      <td>7</td>\n",
       "      <td>1</td>\n",
       "    </tr>\n",
       "    <tr>\n",
       "      <th>4</th>\n",
       "      <td>5</td>\n",
       "      <td>6</td>\n",
       "      <td>0</td>\n",
       "    </tr>\n",
       "    <tr>\n",
       "      <th>5</th>\n",
       "      <td>6</td>\n",
       "      <td>5</td>\n",
       "      <td>1</td>\n",
       "    </tr>\n",
       "    <tr>\n",
       "      <th>6</th>\n",
       "      <td>7</td>\n",
       "      <td>4</td>\n",
       "      <td>1</td>\n",
       "    </tr>\n",
       "    <tr>\n",
       "      <th>7</th>\n",
       "      <td>8</td>\n",
       "      <td>3</td>\n",
       "      <td>0</td>\n",
       "    </tr>\n",
       "    <tr>\n",
       "      <th>8</th>\n",
       "      <td>9</td>\n",
       "      <td>2</td>\n",
       "      <td>0</td>\n",
       "    </tr>\n",
       "    <tr>\n",
       "      <th>9</th>\n",
       "      <td>10</td>\n",
       "      <td>1</td>\n",
       "      <td>1</td>\n",
       "    </tr>\n",
       "  </tbody>\n",
       "</table>\n",
       "</div>"
      ],
      "text/plain": [
       "   Feature1  Feature2  Target\n",
       "0         1        10       1\n",
       "1         2         9       0\n",
       "2         3         8       0\n",
       "3         4         7       1\n",
       "4         5         6       0\n",
       "5         6         5       1\n",
       "6         7         4       1\n",
       "7         8         3       0\n",
       "8         9         2       0\n",
       "9        10         1       1"
      ]
     },
     "execution_count": 3,
     "metadata": {},
     "output_type": "execute_result"
    }
   ],
   "source": [
    "df=pd.DataFrame(data)\n",
    "df"
   ]
  },
  {
   "cell_type": "code",
   "execution_count": 4,
   "id": "7ae62c52",
   "metadata": {},
   "outputs": [],
   "source": [
    "#split the Coloumn\n",
    "\n",
    "x=df[['Feature1','Feature2']]\n",
    "y=df[['Target']]"
   ]
  },
  {
   "cell_type": "code",
   "execution_count": 5,
   "id": "f165909b",
   "metadata": {},
   "outputs": [],
   "source": [
    "x_train,x_test,y_train,y_test=train_test_split(x,y,test_size=0.25,random_state=42)"
   ]
  },
  {
   "cell_type": "code",
   "execution_count": 6,
   "id": "31b652b7",
   "metadata": {},
   "outputs": [
    {
     "data": {
      "text/plain": [
       "7"
      ]
     },
     "execution_count": 6,
     "metadata": {},
     "output_type": "execute_result"
    }
   ],
   "source": [
    "len(x_train)"
   ]
  },
  {
   "cell_type": "code",
   "execution_count": 7,
   "id": "ded794ea",
   "metadata": {},
   "outputs": [
    {
     "data": {
      "text/plain": [
       "7"
      ]
     },
     "execution_count": 7,
     "metadata": {},
     "output_type": "execute_result"
    }
   ],
   "source": [
    "len(y_train)"
   ]
  }
 ],
 "metadata": {
  "kernelspec": {
   "display_name": ".venv",
   "language": "python",
   "name": "python3"
  },
  "language_info": {
   "codemirror_mode": {
    "name": "ipython",
    "version": 3
   },
   "file_extension": ".py",
   "mimetype": "text/x-python",
   "name": "python",
   "nbconvert_exporter": "python",
   "pygments_lexer": "ipython3",
   "version": "3.13.0"
  }
 },
 "nbformat": 4,
 "nbformat_minor": 5
}
